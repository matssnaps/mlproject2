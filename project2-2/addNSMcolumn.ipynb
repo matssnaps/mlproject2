{
 "cells": [
  {
   "cell_type": "code",
   "execution_count": 44,
   "metadata": {},
   "outputs": [],
   "source": [
    "import numpy as np\n",
    "import pandas as pd\n",
    "import xlrd\n",
    "from matplotlib.pyplot import figure, plot, xlabel, ylabel, title, show\n",
    "from sklearn import preprocessing\n",
    "\n",
    "# Load the Energy csv data using the Pandas library\n",
    "filename = 'energydata_complete.csv'\n",
    "df = pd.read_csv(filename)\n",
    "raw_data = df.get_values() \n",
    "\n",
    "datesContent = raw_data[:,0]\n",
    "dates = pd.DatetimeIndex(datesContent)"
   ]
  },
  {
   "cell_type": "code",
   "execution_count": 45,
   "metadata": {},
   "outputs": [],
   "source": [
    "totalseconds = []\n",
    "for index in range(len(datesContent)):\n",
    "    date = pd.to_datetime(datesContent[index])\n",
    "    datemidnight = date.replace(hour=00, minute=00, second=00)\n",
    "    newdate = date - datemidnight\n",
    "    totalseconds.append(newdate.total_seconds())\n",
    "\n",
    "df['NSM'] = totalseconds\n",
    "df.to_csv('energydata_complete_nsm.csv', index=False)"
   ]
  },
  {
   "cell_type": "code",
   "execution_count": null,
   "metadata": {},
   "outputs": [],
   "source": []
  }
 ],
 "metadata": {
  "kernelspec": {
   "display_name": "Python 3",
   "language": "python",
   "name": "python3"
  },
  "language_info": {
   "codemirror_mode": {
    "name": "ipython",
    "version": 3
   },
   "file_extension": ".py",
   "mimetype": "text/x-python",
   "name": "python",
   "nbconvert_exporter": "python",
   "pygments_lexer": "ipython3",
   "version": "3.7.1"
  }
 },
 "nbformat": 4,
 "nbformat_minor": 2
}
